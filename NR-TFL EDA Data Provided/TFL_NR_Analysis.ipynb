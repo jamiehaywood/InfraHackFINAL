{
 "cells": [
  {
   "cell_type": "markdown",
   "metadata": {},
   "source": [
    "# Lift Data Analysis"
   ]
  },
  {
   "cell_type": "markdown",
   "metadata": {},
   "source": [
    "This workbook analyses the main files provided by Network Rail & TFL to inform the analysis and scope of the CCTV enhanced predictive maintenance piece"
   ]
  },
  {
   "cell_type": "code",
   "execution_count": null,
   "metadata": {},
   "outputs": [],
   "source": [
    "#!pip install wordcloud\n",
    "#!pip install pandas_profiling"
   ]
  },
  {
   "cell_type": "code",
   "execution_count": 1,
   "metadata": {},
   "outputs": [],
   "source": [
    "import pandas as pd\n",
    "import pandas_profiling as pp\n",
    "import numpy as np\n",
    "import matplotlib.pyplot as plt\n",
    "from wordcloud import WordCloud, STOPWORDS, ImageColorGenerator\n",
    "from sklearn.feature_extraction.text import CountVectorizer"
   ]
  },
  {
   "cell_type": "markdown",
   "metadata": {},
   "source": [
    "Loading in the data"
   ]
  },
  {
   "cell_type": "code",
   "execution_count": 8,
   "metadata": {},
   "outputs": [],
   "source": [
    "data = pd.read_excel(\"./../Documents/L&E Fault Data Extract March 2019.xlsm\", sheet_name=\"OPAS DATA\")"
   ]
  },
  {
   "cell_type": "code",
   "execution_count": 211,
   "metadata": {},
   "outputs": [
    {
     "data": {
      "text/html": [
       "<div>\n",
       "<style scoped>\n",
       "    .dataframe tbody tr th:only-of-type {\n",
       "        vertical-align: middle;\n",
       "    }\n",
       "\n",
       "    .dataframe tbody tr th {\n",
       "        vertical-align: top;\n",
       "    }\n",
       "\n",
       "    .dataframe thead th {\n",
       "        text-align: right;\n",
       "    }\n",
       "</style>\n",
       "<table border=\"1\" class=\"dataframe\">\n",
       "  <thead>\n",
       "    <tr style=\"text-align: right;\">\n",
       "      <th></th>\n",
       "      <th>Order Number</th>\n",
       "      <th>Request Number</th>\n",
       "      <th>Fault External Reference</th>\n",
       "      <th>Site Id</th>\n",
       "      <th>Site Reference</th>\n",
       "      <th>Requestor</th>\n",
       "      <th>Site Territory</th>\n",
       "      <th>Site Type</th>\n",
       "      <th>Site Category</th>\n",
       "      <th>Site Toc</th>\n",
       "      <th>...</th>\n",
       "      <th>Initial Total Amount SUM</th>\n",
       "      <th>Estimate Total Amount</th>\n",
       "      <th>Payment Total Amount</th>\n",
       "      <th>Financial Year</th>\n",
       "      <th>Reporting Period</th>\n",
       "      <th>Budget Code</th>\n",
       "      <th>Invoice Number</th>\n",
       "      <th>Action Name</th>\n",
       "      <th>Financial Completion Date</th>\n",
       "      <th>Year  /  period</th>\n",
       "    </tr>\n",
       "  </thead>\n",
       "  <tbody>\n",
       "    <tr>\n",
       "      <th>0</th>\n",
       "      <td>1344713</td>\n",
       "      <td>432209</td>\n",
       "      <td>NONE</td>\n",
       "      <td>1563</td>\n",
       "      <td>161365000.0</td>\n",
       "      <td>Gary Beckwith</td>\n",
       "      <td>Kent</td>\n",
       "      <td>Station</td>\n",
       "      <td>Station Category A</td>\n",
       "      <td>NaN</td>\n",
       "      <td>...</td>\n",
       "      <td>1000.0</td>\n",
       "      <td>1000.0</td>\n",
       "      <td>NaN</td>\n",
       "      <td>14-15</td>\n",
       "      <td>1</td>\n",
       "      <td>M7P238</td>\n",
       "      <td>NaN</td>\n",
       "      <td>Issue</td>\n",
       "      <td>NaT</td>\n",
       "      <td>14-15 P1</td>\n",
       "    </tr>\n",
       "    <tr>\n",
       "      <th>1</th>\n",
       "      <td>1344714</td>\n",
       "      <td>432209</td>\n",
       "      <td>NONE</td>\n",
       "      <td>1563</td>\n",
       "      <td>161365000.0</td>\n",
       "      <td>Gary Beckwith</td>\n",
       "      <td>Kent</td>\n",
       "      <td>Station</td>\n",
       "      <td>Station Category A</td>\n",
       "      <td>NaN</td>\n",
       "      <td>...</td>\n",
       "      <td>1000.0</td>\n",
       "      <td>82.5</td>\n",
       "      <td>82.5</td>\n",
       "      <td>14-15</td>\n",
       "      <td>1</td>\n",
       "      <td>M7P238</td>\n",
       "      <td>Y1P1BSCH</td>\n",
       "      <td>Issue</td>\n",
       "      <td>2014-07-30 12:24:13</td>\n",
       "      <td>14-15 P1</td>\n",
       "    </tr>\n",
       "    <tr>\n",
       "      <th>2</th>\n",
       "      <td>1344716</td>\n",
       "      <td>431953</td>\n",
       "      <td>148552</td>\n",
       "      <td>1652</td>\n",
       "      <td>93325000.0</td>\n",
       "      <td>Lindsey Malcolm</td>\n",
       "      <td>Anglia</td>\n",
       "      <td>Station</td>\n",
       "      <td>Station Category A</td>\n",
       "      <td>NXET TOC</td>\n",
       "      <td>...</td>\n",
       "      <td>1000.0</td>\n",
       "      <td>1000.0</td>\n",
       "      <td>NaN</td>\n",
       "      <td>14-15</td>\n",
       "      <td>1</td>\n",
       "      <td>M6P223</td>\n",
       "      <td>NaN</td>\n",
       "      <td>Issue</td>\n",
       "      <td>NaT</td>\n",
       "      <td>14-15 P1</td>\n",
       "    </tr>\n",
       "    <tr>\n",
       "      <th>3</th>\n",
       "      <td>1344717</td>\n",
       "      <td>432211</td>\n",
       "      <td>NaN</td>\n",
       "      <td>2588</td>\n",
       "      <td>85885000.0</td>\n",
       "      <td>Bruce Blackie</td>\n",
       "      <td>Scotland</td>\n",
       "      <td>Station</td>\n",
       "      <td>Station Category A</td>\n",
       "      <td>NaN</td>\n",
       "      <td>...</td>\n",
       "      <td>750.0</td>\n",
       "      <td>750.0</td>\n",
       "      <td>NaN</td>\n",
       "      <td>14-15</td>\n",
       "      <td>1</td>\n",
       "      <td>M1P233</td>\n",
       "      <td>NaN</td>\n",
       "      <td>Issue</td>\n",
       "      <td>NaT</td>\n",
       "      <td>14-15 P1</td>\n",
       "    </tr>\n",
       "    <tr>\n",
       "      <th>4</th>\n",
       "      <td>1344718</td>\n",
       "      <td>432212</td>\n",
       "      <td>VTDCM194</td>\n",
       "      <td>675</td>\n",
       "      <td>62289000.0</td>\n",
       "      <td>Richard Green</td>\n",
       "      <td>London North West</td>\n",
       "      <td>Station</td>\n",
       "      <td>Station Category B</td>\n",
       "      <td>West Coast Trains TOC</td>\n",
       "      <td>...</td>\n",
       "      <td>1000.0</td>\n",
       "      <td>0.0</td>\n",
       "      <td>0.0</td>\n",
       "      <td>14-15</td>\n",
       "      <td>1</td>\n",
       "      <td>NaN</td>\n",
       "      <td>BIRY10P13</td>\n",
       "      <td>Issue</td>\n",
       "      <td>2014-05-27 17:04:14</td>\n",
       "      <td>14-15 P1</td>\n",
       "    </tr>\n",
       "    <tr>\n",
       "      <th>5</th>\n",
       "      <td>1344721</td>\n",
       "      <td>432215</td>\n",
       "      <td>NaN</td>\n",
       "      <td>1597</td>\n",
       "      <td>72209000.0</td>\n",
       "      <td>Akin Martins</td>\n",
       "      <td>Sussex</td>\n",
       "      <td>Station</td>\n",
       "      <td>Station Category D</td>\n",
       "      <td>GTR TOC</td>\n",
       "      <td>...</td>\n",
       "      <td>1000.0</td>\n",
       "      <td>0.0</td>\n",
       "      <td>0.0</td>\n",
       "      <td>14-15</td>\n",
       "      <td>1</td>\n",
       "      <td>NaN</td>\n",
       "      <td>DARY10P13</td>\n",
       "      <td>Issue</td>\n",
       "      <td>2014-05-27 17:01:55</td>\n",
       "      <td>14-15 P1</td>\n",
       "    </tr>\n",
       "    <tr>\n",
       "      <th>6</th>\n",
       "      <td>1344726</td>\n",
       "      <td>431989</td>\n",
       "      <td>NaN</td>\n",
       "      <td>1701</td>\n",
       "      <td>80769000.0</td>\n",
       "      <td>Ann Lynch</td>\n",
       "      <td>Wessex</td>\n",
       "      <td>Station</td>\n",
       "      <td>Station Category D</td>\n",
       "      <td>South Western Railway TOC</td>\n",
       "      <td>...</td>\n",
       "      <td>1000.0</td>\n",
       "      <td>0.0</td>\n",
       "      <td>0.0</td>\n",
       "      <td>14-15</td>\n",
       "      <td>1</td>\n",
       "      <td>NaN</td>\n",
       "      <td>DARY10P13</td>\n",
       "      <td>Issue</td>\n",
       "      <td>2014-05-27 17:01:55</td>\n",
       "      <td>14-15 P1</td>\n",
       "    </tr>\n",
       "  </tbody>\n",
       "</table>\n",
       "<p>7 rows × 58 columns</p>\n",
       "</div>"
      ],
      "text/plain": [
       "   Order Number  Request Number Fault External Reference  Site Id  \\\n",
       "0       1344713          432209                     NONE     1563   \n",
       "1       1344714          432209                     NONE     1563   \n",
       "2       1344716          431953                   148552     1652   \n",
       "3       1344717          432211                      NaN     2588   \n",
       "4       1344718          432212                 VTDCM194      675   \n",
       "5       1344721          432215                      NaN     1597   \n",
       "6       1344726          431989                      NaN     1701   \n",
       "\n",
       "   Site Reference        Requestor     Site Territory Site Type  \\\n",
       "0     161365000.0    Gary Beckwith               Kent   Station   \n",
       "1     161365000.0    Gary Beckwith               Kent   Station   \n",
       "2      93325000.0  Lindsey Malcolm             Anglia   Station   \n",
       "3      85885000.0    Bruce Blackie           Scotland   Station   \n",
       "4      62289000.0    Richard Green  London North West   Station   \n",
       "5      72209000.0     Akin Martins             Sussex   Station   \n",
       "6      80769000.0        Ann Lynch             Wessex   Station   \n",
       "\n",
       "        Site Category                   Site Toc       ...        \\\n",
       "0  Station Category A                        NaN       ...         \n",
       "1  Station Category A                        NaN       ...         \n",
       "2  Station Category A                   NXET TOC       ...         \n",
       "3  Station Category A                        NaN       ...         \n",
       "4  Station Category B      West Coast Trains TOC       ...         \n",
       "5  Station Category D                    GTR TOC       ...         \n",
       "6  Station Category D  South Western Railway TOC       ...         \n",
       "\n",
       "  Initial Total Amount SUM Estimate Total Amount Payment Total Amount  \\\n",
       "0                   1000.0                1000.0                  NaN   \n",
       "1                   1000.0                  82.5                 82.5   \n",
       "2                   1000.0                1000.0                  NaN   \n",
       "3                    750.0                 750.0                  NaN   \n",
       "4                   1000.0                   0.0                  0.0   \n",
       "5                   1000.0                   0.0                  0.0   \n",
       "6                   1000.0                   0.0                  0.0   \n",
       "\n",
       "  Financial Year Reporting Period Budget Code Invoice Number Action Name  \\\n",
       "0          14-15                1      M7P238            NaN       Issue   \n",
       "1          14-15                1      M7P238       Y1P1BSCH       Issue   \n",
       "2          14-15                1      M6P223            NaN       Issue   \n",
       "3          14-15                1      M1P233            NaN       Issue   \n",
       "4          14-15                1         NaN      BIRY10P13       Issue   \n",
       "5          14-15                1         NaN      DARY10P13       Issue   \n",
       "6          14-15                1         NaN      DARY10P13       Issue   \n",
       "\n",
       "  Financial Completion Date Year  /  period  \n",
       "0                       NaT        14-15 P1  \n",
       "1       2014-07-30 12:24:13        14-15 P1  \n",
       "2                       NaT        14-15 P1  \n",
       "3                       NaT        14-15 P1  \n",
       "4       2014-05-27 17:04:14        14-15 P1  \n",
       "5       2014-05-27 17:01:55        14-15 P1  \n",
       "6       2014-05-27 17:01:55        14-15 P1  \n",
       "\n",
       "[7 rows x 58 columns]"
      ]
     },
     "execution_count": 211,
     "metadata": {},
     "output_type": "execute_result"
    }
   ],
   "source": [
    "data.head(7)"
   ]
  },
  {
   "cell_type": "markdown",
   "metadata": {},
   "source": [
    "For FastEDA statistical Report uncomment below line for visibility of the data quality, distributions and attributes"
   ]
  },
  {
   "cell_type": "code",
   "execution_count": 67,
   "metadata": {},
   "outputs": [],
   "source": [
    "#pp.ProfileReport(data)"
   ]
  },
  {
   "cell_type": "markdown",
   "metadata": {},
   "source": [
    "# Data Analysis"
   ]
  },
  {
   "cell_type": "markdown",
   "metadata": {},
   "source": [
    "### EDA 1 -Analysing repare times and expected maintenance turnarounds "
   ]
  },
  {
   "cell_type": "code",
   "execution_count": 227,
   "metadata": {},
   "outputs": [],
   "source": [
    "#Loading in dataset\n",
    "timedata = data[['Initiated Date','Issued Date','Original Priority','Work Completion Date','Work Started Date']]\n",
    "#dropping null values and setting up variable for delta calculation\n",
    "timedata = timedata.dropna()\n",
    "deltas = []"
   ]
  },
  {
   "cell_type": "code",
   "execution_count": 228,
   "metadata": {},
   "outputs": [],
   "source": [
    "# Looping through the Work Completion and Work Start to compare the time spent on repairs\n",
    "for t1, t2 in zip(timedata['Work Completion Date'], timedata['Work Started Date']):\n",
    "    #print(t1,t2)\n",
    "    deltas.append(t1 - t2)\n",
    "assert len(deltas) == len(timedata)"
   ]
  },
  {
   "cell_type": "code",
   "execution_count": 229,
   "metadata": {},
   "outputs": [],
   "source": [
    "# From EDA report, 3 text values to identify job complexity, converting to numerical values for further delta cals\n",
    "def clean_time(text_time):\n",
    "    if text_time == \"2 Hours\":\n",
    "        clean = 120\n",
    "    elif text_time == \"30 minutes\":\n",
    "        clean = 30\n",
    "    elif text_time == \"24 Hours\":\n",
    "        clean = 1440\n",
    "    else:\n",
    "        clean = np.nan\n",
    "    return clean"
   ]
  },
  {
   "cell_type": "code",
   "execution_count": 230,
   "metadata": {},
   "outputs": [],
   "source": [
    "timedata['deltas'] = deltas"
   ]
  },
  {
   "cell_type": "code",
   "execution_count": 231,
   "metadata": {},
   "outputs": [],
   "source": [
    "timedata['Priority'] = timedata['Original Priority'].apply(lambda x: clean_time(x))"
   ]
  },
  {
   "cell_type": "code",
   "execution_count": 232,
   "metadata": {},
   "outputs": [],
   "source": [
    "def conv_time(td):\n",
    "    try:\n",
    "        days = td.days\n",
    "        hours, remainder = divmod(td.seconds, 3600)\n",
    "        minutes, seconds = divmod(remainder, 60)\n",
    "        return days*24*60 + hours*60 + minutes\n",
    "    except e:\n",
    "        return 0"
   ]
  },
  {
   "cell_type": "code",
   "execution_count": 233,
   "metadata": {},
   "outputs": [],
   "source": [
    "timedata['hDelta'] = timedata.deltas.apply(lambda x: conv_time(x))"
   ]
  },
  {
   "cell_type": "code",
   "execution_count": 234,
   "metadata": {},
   "outputs": [],
   "source": [
    "deltas2 = []\n",
    "# Looping through the Work Completion and Work Start to compare the time spent on repairs\n",
    "for t1, t2 in zip(timedata['hDelta'],timedata['Priority']):\n",
    "    tdelta = t1-t2\n",
    "    deltas2.append(tdelta)"
   ]
  },
  {
   "cell_type": "code",
   "execution_count": 235,
   "metadata": {},
   "outputs": [],
   "source": [
    "timedata['Gap'] = deltas2"
   ]
  },
  {
   "cell_type": "code",
   "execution_count": 236,
   "metadata": {},
   "outputs": [
    {
     "data": {
      "text/plain": [
       "count     53252.000000\n",
       "mean       1065.988000\n",
       "std       10035.254897\n",
       "min       -1440.000000\n",
       "25%         -88.000000\n",
       "50%         -59.000000\n",
       "75%           6.000000\n",
       "max      695518.000000\n",
       "Name: Gap, dtype: float64"
      ]
     },
     "execution_count": 236,
     "metadata": {},
     "output_type": "execute_result"
    }
   ],
   "source": [
    "timedata.Gap.describe()"
   ]
  },
  {
   "cell_type": "code",
   "execution_count": 237,
   "metadata": {},
   "outputs": [],
   "source": [
    "bins = [-2000, -1000, -100, -50, 0, 50, 100, 500, 1000,10000]\n",
    "timedata['binned'] = pd.cut(timedata['Gap'], bins=bins)"
   ]
  },
  {
   "cell_type": "code",
   "execution_count": 238,
   "metadata": {},
   "outputs": [
    {
     "data": {
      "text/plain": [
       "(-100, -50]       20750\n",
       "(-50, 0]           9444\n",
       "(-2000, -1000]     5451\n",
       "(1000, 10000]      4464\n",
       "(-1000, -100]      3836\n",
       "(0, 50]            3061\n",
       "(100, 500]         2393\n",
       "(50, 100]          1338\n",
       "(500, 1000]        1106\n",
       "Name: binned, dtype: int64"
      ]
     },
     "execution_count": 238,
     "metadata": {},
     "output_type": "execute_result"
    }
   ],
   "source": [
    "timedata['binned'].value_counts()"
   ]
  },
  {
   "cell_type": "code",
   "execution_count": 239,
   "metadata": {},
   "outputs": [
    {
     "data": {
      "text/plain": [
       "0.6471022094014293"
      ]
     },
     "execution_count": 239,
     "metadata": {},
     "output_type": "execute_result"
    }
   ],
   "source": [
    "(20750+9444+5451+3836)/ len(timedata['binned'])"
   ]
  },
  {
   "cell_type": "markdown",
   "metadata": {},
   "source": [
    "**Conclusion:  \n",
    "Distribution to be visualised on slides - 65% of maintenance jobs are completed in less or the expected time allocation**"
   ]
  },
  {
   "cell_type": "markdown",
   "metadata": {},
   "source": [
    "##  EDA 2 - Analysing time to raise issue"
   ]
  },
  {
   "cell_type": "code",
   "execution_count": 241,
   "metadata": {},
   "outputs": [
    {
     "data": {
      "text/html": [
       "<div>\n",
       "<style scoped>\n",
       "    .dataframe tbody tr th:only-of-type {\n",
       "        vertical-align: middle;\n",
       "    }\n",
       "\n",
       "    .dataframe tbody tr th {\n",
       "        vertical-align: top;\n",
       "    }\n",
       "\n",
       "    .dataframe thead th {\n",
       "        text-align: right;\n",
       "    }\n",
       "</style>\n",
       "<table border=\"1\" class=\"dataframe\">\n",
       "  <thead>\n",
       "    <tr style=\"text-align: right;\">\n",
       "      <th></th>\n",
       "      <th>Initiated Date</th>\n",
       "      <th>Issued Date</th>\n",
       "      <th>Original Priority</th>\n",
       "      <th>Work Completion Date</th>\n",
       "      <th>Work Started Date</th>\n",
       "      <th>deltas</th>\n",
       "      <th>Priority</th>\n",
       "      <th>hDelta</th>\n",
       "      <th>Gap</th>\n",
       "      <th>binned</th>\n",
       "    </tr>\n",
       "  </thead>\n",
       "  <tbody>\n",
       "    <tr>\n",
       "      <th>0</th>\n",
       "      <td>2014-04-01 01:42:59</td>\n",
       "      <td>2014-04-01 01:58:23</td>\n",
       "      <td>2 Hours</td>\n",
       "      <td>2014-04-01 04:00:00</td>\n",
       "      <td>2014-04-01 02:30:00</td>\n",
       "      <td>0 days 01:30:00</td>\n",
       "      <td>120.0</td>\n",
       "      <td>90</td>\n",
       "      <td>-30.0</td>\n",
       "      <td>(-50, 0]</td>\n",
       "    </tr>\n",
       "    <tr>\n",
       "      <th>1</th>\n",
       "      <td>2014-04-01 01:51:37</td>\n",
       "      <td>2014-04-01 01:59:29</td>\n",
       "      <td>2 Hours</td>\n",
       "      <td>2014-04-01 04:00:00</td>\n",
       "      <td>2014-04-01 02:30:00</td>\n",
       "      <td>0 days 01:30:00</td>\n",
       "      <td>120.0</td>\n",
       "      <td>90</td>\n",
       "      <td>-30.0</td>\n",
       "      <td>(-50, 0]</td>\n",
       "    </tr>\n",
       "    <tr>\n",
       "      <th>2</th>\n",
       "      <td>2014-04-01 04:25:38</td>\n",
       "      <td>2014-04-01 04:27:08</td>\n",
       "      <td>2 Hours</td>\n",
       "      <td>2014-04-01 06:00:00</td>\n",
       "      <td>2014-04-01 05:00:00</td>\n",
       "      <td>0 days 01:00:00</td>\n",
       "      <td>120.0</td>\n",
       "      <td>60</td>\n",
       "      <td>-60.0</td>\n",
       "      <td>(-100, -50]</td>\n",
       "    </tr>\n",
       "    <tr>\n",
       "      <th>3</th>\n",
       "      <td>2014-04-01 05:22:17</td>\n",
       "      <td>2014-04-01 05:22:58</td>\n",
       "      <td>2 Hours</td>\n",
       "      <td>2014-04-02 11:30:00</td>\n",
       "      <td>2014-04-01 06:00:00</td>\n",
       "      <td>1 days 05:30:00</td>\n",
       "      <td>120.0</td>\n",
       "      <td>1770</td>\n",
       "      <td>1650.0</td>\n",
       "      <td>(1000, 10000]</td>\n",
       "    </tr>\n",
       "    <tr>\n",
       "      <th>4</th>\n",
       "      <td>2014-04-01 05:36:16</td>\n",
       "      <td>2014-04-01 05:36:59</td>\n",
       "      <td>2 Hours</td>\n",
       "      <td>2014-04-01 07:48:00</td>\n",
       "      <td>2014-04-01 07:05:00</td>\n",
       "      <td>0 days 00:43:00</td>\n",
       "      <td>120.0</td>\n",
       "      <td>43</td>\n",
       "      <td>-77.0</td>\n",
       "      <td>(-100, -50]</td>\n",
       "    </tr>\n",
       "    <tr>\n",
       "      <th>5</th>\n",
       "      <td>2014-04-01 06:55:08</td>\n",
       "      <td>2014-04-01 06:56:58</td>\n",
       "      <td>2 Hours</td>\n",
       "      <td>2014-04-01 10:00:00</td>\n",
       "      <td>2014-04-01 08:29:00</td>\n",
       "      <td>0 days 01:31:00</td>\n",
       "      <td>120.0</td>\n",
       "      <td>91</td>\n",
       "      <td>-29.0</td>\n",
       "      <td>(-50, 0]</td>\n",
       "    </tr>\n",
       "    <tr>\n",
       "      <th>6</th>\n",
       "      <td>2014-04-01 07:11:17</td>\n",
       "      <td>2014-04-01 07:12:20</td>\n",
       "      <td>2 Hours</td>\n",
       "      <td>2014-04-01 08:30:00</td>\n",
       "      <td>2014-04-01 07:23:00</td>\n",
       "      <td>0 days 01:07:00</td>\n",
       "      <td>120.0</td>\n",
       "      <td>67</td>\n",
       "      <td>-53.0</td>\n",
       "      <td>(-100, -50]</td>\n",
       "    </tr>\n",
       "  </tbody>\n",
       "</table>\n",
       "</div>"
      ],
      "text/plain": [
       "       Initiated Date         Issued Date Original Priority  \\\n",
       "0 2014-04-01 01:42:59 2014-04-01 01:58:23           2 Hours   \n",
       "1 2014-04-01 01:51:37 2014-04-01 01:59:29           2 Hours   \n",
       "2 2014-04-01 04:25:38 2014-04-01 04:27:08           2 Hours   \n",
       "3 2014-04-01 05:22:17 2014-04-01 05:22:58           2 Hours   \n",
       "4 2014-04-01 05:36:16 2014-04-01 05:36:59           2 Hours   \n",
       "5 2014-04-01 06:55:08 2014-04-01 06:56:58           2 Hours   \n",
       "6 2014-04-01 07:11:17 2014-04-01 07:12:20           2 Hours   \n",
       "\n",
       "  Work Completion Date   Work Started Date          deltas  Priority  hDelta  \\\n",
       "0  2014-04-01 04:00:00 2014-04-01 02:30:00 0 days 01:30:00     120.0      90   \n",
       "1  2014-04-01 04:00:00 2014-04-01 02:30:00 0 days 01:30:00     120.0      90   \n",
       "2  2014-04-01 06:00:00 2014-04-01 05:00:00 0 days 01:00:00     120.0      60   \n",
       "3  2014-04-02 11:30:00 2014-04-01 06:00:00 1 days 05:30:00     120.0    1770   \n",
       "4  2014-04-01 07:48:00 2014-04-01 07:05:00 0 days 00:43:00     120.0      43   \n",
       "5  2014-04-01 10:00:00 2014-04-01 08:29:00 0 days 01:31:00     120.0      91   \n",
       "6  2014-04-01 08:30:00 2014-04-01 07:23:00 0 days 01:07:00     120.0      67   \n",
       "\n",
       "      Gap         binned  \n",
       "0   -30.0       (-50, 0]  \n",
       "1   -30.0       (-50, 0]  \n",
       "2   -60.0    (-100, -50]  \n",
       "3  1650.0  (1000, 10000]  \n",
       "4   -77.0    (-100, -50]  \n",
       "5   -29.0       (-50, 0]  \n",
       "6   -53.0    (-100, -50]  "
      ]
     },
     "execution_count": 241,
     "metadata": {},
     "output_type": "execute_result"
    }
   ],
   "source": [
    "timedata.head(7)"
   ]
  },
  {
   "cell_type": "code",
   "execution_count": 265,
   "metadata": {},
   "outputs": [],
   "source": [
    "deltas = []\n",
    "# Looping through the Work Completion and Work Start to compare the time spent on repairs\n",
    "for t1, t2 in zip(timedata['Initiated Date'],timedata['Issued Date']):\n",
    "    tdelta = t2-t1\n",
    "    deltas.append(tdelta)"
   ]
  },
  {
   "cell_type": "code",
   "execution_count": 266,
   "metadata": {},
   "outputs": [],
   "source": [
    "timedata['2_deltas']= deltas"
   ]
  },
  {
   "cell_type": "code",
   "execution_count": 267,
   "metadata": {},
   "outputs": [],
   "source": [
    "timedata['time_to_issue'] = timedata['2_deltas'].apply(lambda x: conv_time(x))"
   ]
  },
  {
   "cell_type": "code",
   "execution_count": 275,
   "metadata": {},
   "outputs": [
    {
     "data": {
      "text/plain": [
       "<matplotlib.axes._subplots.AxesSubplot at 0x1789594e0>"
      ]
     },
     "execution_count": 275,
     "metadata": {},
     "output_type": "execute_result"
    },
    {
     "data": {
      "image/png": "[encoded data removed]",
      "text/plain": [
       "<Figure size 800x550 with 1 Axes>"
      ]
     },
     "metadata": {},
     "output_type": "display_data"
    }
   ],
   "source": [
    "timedata['time_to_issue'].value_counts()[timedata['time_to_issue'].value_counts()>50].plot(kind='bar')"
   ]
  },
  {
   "cell_type": "markdown",
   "metadata": {},
   "source": [
    "**Conclusion:  \n",
    "Quick incident reporting times - usually reported immediately**"
   ]
  },
  {
   "cell_type": "markdown",
   "metadata": {},
   "source": [
    "## EDA 3 - Initiated problem to Work Complete"
   ]
  },
  {
   "cell_type": "code",
   "execution_count": 276,
   "metadata": {},
   "outputs": [],
   "source": [
    "deltas = []\n",
    "# Looping through the Work Completion and Work Start to compare the time spent on repairs\n",
    "for t1, t2 in zip(timedata['Initiated Date'],timedata['Work Completion Date']):\n",
    "    tdelta = t2-t1\n",
    "    deltas.append(tdelta)"
   ]
  },
  {
   "cell_type": "code",
   "execution_count": 277,
   "metadata": {},
   "outputs": [],
   "source": [
    "timedata['3_deltas']= deltas"
   ]
  },
  {
   "cell_type": "code",
   "execution_count": 278,
   "metadata": {},
   "outputs": [],
   "source": [
    "timedata['time_to_completion'] = timedata['3_deltas'].apply(lambda x: conv_time(x))"
   ]
  },
  {
   "cell_type": "code",
   "execution_count": 280,
   "metadata": {},
   "outputs": [
    {
     "data": {
      "text/plain": [
       "<matplotlib.axes._subplots.AxesSubplot at 0x17912cc50>"
      ]
     },
     "execution_count": 280,
     "metadata": {},
     "output_type": "execute_result"
    },
    {
     "data": {
      "image/png": "[encoded data removed]",
      "text/plain": [
       "<Figure size 800x550 with 1 Axes>"
      ]
     },
     "metadata": {},
     "output_type": "display_data"
    }
   ],
   "source": [
    "timedata['time_to_completion'].value_counts()[timedata['time_to_completion'].value_counts()>250].plot(kind='bar')"
   ]
  },
  {
   "cell_type": "code",
   "execution_count": 281,
   "metadata": {},
   "outputs": [],
   "source": [
    "bins = [0, 50, 100, 200, 300, 400, 500, 600,1000]\n",
    "timedata['3_binned'] = pd.cut(timedata['time_to_completion'], bins=bins)"
   ]
  },
  {
   "cell_type": "code",
   "execution_count": 284,
   "metadata": {},
   "outputs": [
    {
     "data": {
      "text/plain": [
       "<matplotlib.axes._subplots.AxesSubplot at 0x17b96d240>"
      ]
     },
     "execution_count": 284,
     "metadata": {},
     "output_type": "execute_result"
    },
    {
     "data": {
      "image/png": "[encoded data removed]",
      "text/plain": [
       "<Figure size 800x550 with 1 Axes>"
      ]
     },
     "metadata": {},
     "output_type": "display_data"
    }
   ],
   "source": [
    "timedata['3_binned'].value_counts().plot(kind='bar')"
   ]
  },
  {
   "cell_type": "markdown",
   "metadata": {},
   "source": [
    "**Conclusion:  \n",
    "Majority of lifts are fixed with 3 hours**"
   ]
  },
  {
   "cell_type": "markdown",
   "metadata": {},
   "source": [
    "# NLP Keyword to fault type analysis"
   ]
  },
  {
   "cell_type": "code",
   "execution_count": 288,
   "metadata": {},
   "outputs": [],
   "source": [
    "textdata = data[['Fault External Reference','Block Name','Job User Specification','Site Name']]"
   ]
  },
  {
   "cell_type": "code",
   "execution_count": 209,
   "metadata": {},
   "outputs": [
    {
     "data": {
      "text/plain": [
       "<matplotlib.axes._subplots.AxesSubplot at 0x1735319b0>"
      ]
     },
     "execution_count": 209,
     "metadata": {},
     "output_type": "execute_result"
    },
    {
     "data": {
      "image/png": "[encoded data removed]",
      "text/plain": [
       "<Figure size 800x550 with 1 Axes>"
      ]
     },
     "metadata": {},
     "output_type": "display_data"
    }
   ],
   "source": [
    "textdata['Fault External Reference'].value_counts().head(10).plot(kind='bar')"
   ]
  },
  {
   "cell_type": "markdown",
   "metadata": {},
   "source": [
    "No relevant fault codes provided in dataset"
   ]
  },
  {
   "cell_type": "code",
   "execution_count": 289,
   "metadata": {},
   "outputs": [
    {
     "data": {
      "text/plain": [
       "<matplotlib.axes._subplots.AxesSubplot at 0x17eebeb70>"
      ]
     },
     "execution_count": 289,
     "metadata": {},
     "output_type": "execute_result"
    },
    {
     "data": {
      "image/png": "[encoded data removed]",
      "text/plain": [
       "<Figure size 800x550 with 1 Axes>"
      ]
     },
     "metadata": {},
     "output_type": "display_data"
    }
   ],
   "source": [
    "textdata['Block Name'].value_counts().head(20).plot(kind='bar')"
   ]
  },
  {
   "cell_type": "markdown",
   "metadata": {},
   "source": [
    "Busiest Stations in the country have the highest lift failures. Inferred correlation between number of journeys and number of breakdowns."
   ]
  },
  {
   "cell_type": "code",
   "execution_count": 386,
   "metadata": {},
   "outputs": [],
   "source": [
    "EdinburghText = textdata['Job User Specification'][textdata['Block Name'] == \"Edinburgh Waverley Stn Lift/Escalator 02\"]"
   ]
  },
  {
   "cell_type": "code",
   "execution_count": 387,
   "metadata": {},
   "outputs": [],
   "source": [
    "def tokenise(string):\n",
    "    tokens = string.split()\n",
    "    return tokens\n",
    "    "
   ]
  },
  {
   "cell_type": "code",
   "execution_count": 388,
   "metadata": {},
   "outputs": [],
   "source": [
    "tokenised = EdinburghText.apply(lambda x: tokenise(x))"
   ]
  },
  {
   "cell_type": "code",
   "execution_count": 389,
   "metadata": {},
   "outputs": [],
   "source": [
    "from nltk.corpus import stopwords\n",
    "stop_words = list(stopwords.words('english'))"
   ]
  },
  {
   "cell_type": "code",
   "execution_count": 390,
   "metadata": {},
   "outputs": [],
   "source": [
    "station_words = \"Edinburgh Waverley Stn Lift/Escalator 02\"\n",
    "stop_words.append(station_words)"
   ]
  },
  {
   "cell_type": "code",
   "execution_count": 391,
   "metadata": {},
   "outputs": [],
   "source": [
    "f_tokens =[tok for tok in tokenised if tok not in stop_words]"
   ]
  },
  {
   "cell_type": "code",
   "execution_count": 392,
   "metadata": {},
   "outputs": [],
   "source": [
    "Edinburgh = [\" \".join(sent) for sent in f_tokens]"
   ]
  },
  {
   "cell_type": "code",
   "execution_count": 393,
   "metadata": {},
   "outputs": [],
   "source": [
    "Edinburgh_wc = \" \".join(Edinburgh)"
   ]
  },
  {
   "cell_type": "code",
   "execution_count": 394,
   "metadata": {},
   "outputs": [
    {
     "data": {
      "image/png": "[encoded data removed]",
      "text/plain": [
       "<Figure size 800x550 with 1 Axes>"
      ]
     },
     "metadata": {},
     "output_type": "display_data"
    }
   ],
   "source": [
    "wordcloud = WordCloud().generate(Edinburgh_wc)\n",
    "\n",
    "# Display the generated image:\n",
    "plt.imshow(wordcloud, interpolation='bilinear')\n",
    "plt.axis(\"off\")\n",
    "plt.show()"
   ]
  },
  {
   "cell_type": "code",
   "execution_count": 395,
   "metadata": {},
   "outputs": [],
   "source": [
    "def get_top_n_words(corpus, n=None):\n",
    "    vec = CountVectorizer().fit(corpus)\n",
    "    bag_of_words = vec.transform(corpus)\n",
    "    sum_words = bag_of_words.sum(axis=0) \n",
    "    words_freq = [(word, sum_words[0, idx]) for word, idx in     vec.vocabulary_.items()]\n",
    "    words_freq =sorted(words_freq, key = lambda x: x[1], reverse=True)\n",
    "    return words_freq[:n]\n"
   ]
  },
  {
   "cell_type": "code",
   "execution_count": 399,
   "metadata": {},
   "outputs": [
    {
     "data": {
      "text/plain": [
       "[('lift', 86),\n",
       " ('e2', 84),\n",
       " ('out', 76),\n",
       " ('platform', 76),\n",
       " ('service', 63),\n",
       " ('escalator', 56),\n",
       " ('085889000476', 56),\n",
       " ('1316408', 55),\n",
       " ('of', 50),\n",
       " ('steps', 47),\n",
       " ('waverley', 43),\n",
       " ('has', 43),\n",
       " ('not', 41),\n",
       " ('the', 38),\n",
       " ('tripped', 29),\n",
       " ('needs', 28),\n",
       " ('re', 28),\n",
       " ('on', 28),\n",
       " ('doors', 27),\n",
       " ('starting', 26)]"
      ]
     },
     "execution_count": 399,
     "metadata": {},
     "output_type": "execute_result"
    }
   ],
   "source": [
    "get_top_n_words(Edinburgh, n=20)"
   ]
  },
  {
   "cell_type": "markdown",
   "metadata": {},
   "source": [
    "**Conclusion:  \n",
    "TO BE VALIDATED: If two numeric codes are Key Error codes or key part IDs - this can be of use for the next engineer**"
   ]
  },
  {
   "cell_type": "markdown",
   "metadata": {},
   "source": [
    "# Lift Failure Analysis"
   ]
  },
  {
   "cell_type": "code",
   "execution_count": 2,
   "metadata": {},
   "outputs": [],
   "source": [
    "logs = pd.read_csv(\"./../Downloads/TfL Lifts eventlog_01032019_26042019.csv\", names=[\"Seq\",\"Time\",\"Priority\",\"Desc\", \"Cause\", \"NMSID\"],skiprows=1)"
   ]
  },
  {
   "cell_type": "code",
   "execution_count": 3,
   "metadata": {},
   "outputs": [
    {
     "data": {
      "text/html": [
       "<div>\n",
       "<style scoped>\n",
       "    .dataframe tbody tr th:only-of-type {\n",
       "        vertical-align: middle;\n",
       "    }\n",
       "\n",
       "    .dataframe tbody tr th {\n",
       "        vertical-align: top;\n",
       "    }\n",
       "\n",
       "    .dataframe thead th {\n",
       "        text-align: right;\n",
       "    }\n",
       "</style>\n",
       "<table border=\"1\" class=\"dataframe\">\n",
       "  <thead>\n",
       "    <tr style=\"text-align: right;\">\n",
       "      <th></th>\n",
       "      <th>Seq</th>\n",
       "      <th>Time</th>\n",
       "      <th>Priority</th>\n",
       "      <th>Desc</th>\n",
       "      <th>Cause</th>\n",
       "      <th>NMSID</th>\n",
       "    </tr>\n",
       "  </thead>\n",
       "  <tbody>\n",
       "    <tr>\n",
       "      <th>0</th>\n",
       "      <td>1772501</td>\n",
       "      <td>26/04/2019 08:48:47</td>\n",
       "      <td>\"x\"</td>\n",
       "      <td>\"LCA LIFT 1 DOOR NORMAL Acknowledged by BRADF...</td>\n",
       "      <td>\"Alarm_Acknowledged\"</td>\n",
       "      <td>25442957</td>\n",
       "    </tr>\n",
       "    <tr>\n",
       "      <th>1</th>\n",
       "      <td>1772500</td>\n",
       "      <td>26/04/2019 08:48:42</td>\n",
       "      <td>\"x\"</td>\n",
       "      <td>\"LCA LIFT 1 DOOR NORMAL\"</td>\n",
       "      <td>\"Alarm_Cleared\"</td>\n",
       "      <td>25442956</td>\n",
       "    </tr>\n",
       "    <tr>\n",
       "      <th>2</th>\n",
       "      <td>1772499</td>\n",
       "      <td>26/04/2019 08:48:36</td>\n",
       "      <td>\"1\"</td>\n",
       "      <td>\"LCA LIFT 1 DOOR FAULT\"</td>\n",
       "      <td>\"Alarm_Raised\"</td>\n",
       "      <td>25442955</td>\n",
       "    </tr>\n",
       "    <tr>\n",
       "      <th>3</th>\n",
       "      <td>1772488</td>\n",
       "      <td>26/04/2019 08:41:12</td>\n",
       "      <td>\"x\"</td>\n",
       "      <td>\"WES LIFT 4 (ELITE) MAINTENANCE NORMAL Acknow...</td>\n",
       "      <td>\"Alarm_Acknowledged\"</td>\n",
       "      <td>25442944</td>\n",
       "    </tr>\n",
       "    <tr>\n",
       "      <th>4</th>\n",
       "      <td>1772487</td>\n",
       "      <td>26/04/2019 08:41:05</td>\n",
       "      <td>\"x\"</td>\n",
       "      <td>\"WES LIFT 4 (ELITE) MAINTENANCE NORMAL\"</td>\n",
       "      <td>\"Alarm_Cleared\"</td>\n",
       "      <td>25442943</td>\n",
       "    </tr>\n",
       "    <tr>\n",
       "      <th>5</th>\n",
       "      <td>1772486</td>\n",
       "      <td>26/04/2019 08:40:57</td>\n",
       "      <td>\"3\"</td>\n",
       "      <td>\"WES LIFT 4 (ELITE) MAINTENANCE ALARM\"</td>\n",
       "      <td>\"Alarm_Raised\"</td>\n",
       "      <td>25442942</td>\n",
       "    </tr>\n",
       "    <tr>\n",
       "      <th>6</th>\n",
       "      <td>1772468</td>\n",
       "      <td>26/04/2019 08:27:22</td>\n",
       "      <td>\"x\"</td>\n",
       "      <td>\"WOA NWR LIFT ALARM BUTTON NORMAL Acknowledge...</td>\n",
       "      <td>\"Alarm_Acknowledged\"</td>\n",
       "      <td>25442924</td>\n",
       "    </tr>\n",
       "  </tbody>\n",
       "</table>\n",
       "</div>"
      ],
      "text/plain": [
       "       Seq                  Time Priority  \\\n",
       "0  1772501   26/04/2019 08:48:47      \"x\"   \n",
       "1  1772500   26/04/2019 08:48:42      \"x\"   \n",
       "2  1772499   26/04/2019 08:48:36      \"1\"   \n",
       "3  1772488   26/04/2019 08:41:12      \"x\"   \n",
       "4  1772487   26/04/2019 08:41:05      \"x\"   \n",
       "5  1772486   26/04/2019 08:40:57      \"3\"   \n",
       "6  1772468   26/04/2019 08:27:22      \"x\"   \n",
       "\n",
       "                                                Desc                  Cause  \\\n",
       "0   \"LCA LIFT 1 DOOR NORMAL Acknowledged by BRADF...   \"Alarm_Acknowledged\"   \n",
       "1                           \"LCA LIFT 1 DOOR NORMAL\"        \"Alarm_Cleared\"   \n",
       "2                            \"LCA LIFT 1 DOOR FAULT\"         \"Alarm_Raised\"   \n",
       "3   \"WES LIFT 4 (ELITE) MAINTENANCE NORMAL Acknow...   \"Alarm_Acknowledged\"   \n",
       "4            \"WES LIFT 4 (ELITE) MAINTENANCE NORMAL\"        \"Alarm_Cleared\"   \n",
       "5             \"WES LIFT 4 (ELITE) MAINTENANCE ALARM\"         \"Alarm_Raised\"   \n",
       "6   \"WOA NWR LIFT ALARM BUTTON NORMAL Acknowledge...   \"Alarm_Acknowledged\"   \n",
       "\n",
       "      NMSID  \n",
       "0  25442957  \n",
       "1  25442956  \n",
       "2  25442955  \n",
       "3  25442944  \n",
       "4  25442943  \n",
       "5  25442942  \n",
       "6  25442924  "
      ]
     },
     "execution_count": 3,
     "metadata": {},
     "output_type": "execute_result"
    }
   ],
   "source": [
    "logs.head(7)"
   ]
  },
  {
   "cell_type": "code",
   "execution_count": 4,
   "metadata": {},
   "outputs": [],
   "source": [
    "def remove_dead_string(val):\n",
    "    value = val[2:-1]\n",
    "    return value"
   ]
  },
  {
   "cell_type": "code",
   "execution_count": 5,
   "metadata": {},
   "outputs": [],
   "source": [
    "logs[\"Priority\"] = logs.Priority.apply(lambda x: remove_dead_string(x))"
   ]
  },
  {
   "cell_type": "code",
   "execution_count": 30,
   "metadata": {},
   "outputs": [],
   "source": [
    "logs[\"Cause\"] = logs[\"Cause\"].apply(lambda x: remove_dead_string(x))"
   ]
  },
  {
   "cell_type": "code",
   "execution_count": 40,
   "metadata": {},
   "outputs": [
    {
     "data": {
      "text/plain": [
       "13180"
      ]
     },
     "execution_count": 40,
     "metadata": {},
     "output_type": "execute_result"
    }
   ],
   "source": [
    "len(logs[logs[\"Cause\"] ==\"Alarm_Acknowledged\"])"
   ]
  },
  {
   "cell_type": "markdown",
   "metadata": {},
   "source": [
    "**FINDING 1: Over 13,000 Acknowledgments from TFL staff have occured but 99% of lift errors have lasted less than a minute (false positive)**"
   ]
  },
  {
   "cell_type": "code",
   "execution_count": 7,
   "metadata": {},
   "outputs": [
    {
     "name": "stderr",
     "output_type": "stream",
     "text": [
      "/anaconda3/lib/python3.6/site-packages/ipykernel_launcher.py:1: SettingWithCopyWarning: \n",
      "A value is trying to be set on a copy of a slice from a DataFrame.\n",
      "Try using .loc[row_indexer,col_indexer] = value instead\n",
      "\n",
      "See the caveats in the documentation: http://pandas.pydata.org/pandas-docs/stable/indexing.html#indexing-view-versus-copy\n",
      "  \"\"\"Entry point for launching an IPython kernel.\n"
     ]
    }
   ],
   "source": [
    "serious_failures['error_counts'] = (serious_failures['Priority'] == '1').cumsum()"
   ]
  },
  {
   "cell_type": "code",
   "execution_count": null,
   "metadata": {},
   "outputs": [
    {
     "data": {
      "text/plain": [
       "[<matplotlib.lines.Line2D at 0x1a1c114780>]"
      ]
     },
     "execution_count": 10,
     "metadata": {},
     "output_type": "execute_result"
    }
   ],
   "source": [
    "#plt.plot(serious_failures.Time, serious_failures.error_counts) #PLOT TOO BIG"
   ]
  },
  {
   "cell_type": "code",
   "execution_count": 9,
   "metadata": {},
   "outputs": [
    {
     "data": {
      "text/plain": [
       "' 01/03/2019 00:12:28'"
      ]
     },
     "execution_count": 9,
     "metadata": {},
     "output_type": "execute_result"
    }
   ],
   "source": [
    "min(serious_failures['Time'])"
   ]
  },
  {
   "cell_type": "code",
   "execution_count": 11,
   "metadata": {},
   "outputs": [
    {
     "data": {
      "text/plain": [
       "' 31/03/2019 23:49:55'"
      ]
     },
     "execution_count": 11,
     "metadata": {},
     "output_type": "execute_result"
    }
   ],
   "source": [
    "max(serious_failures['Time'])"
   ]
  },
  {
   "cell_type": "code",
   "execution_count": 12,
   "metadata": {},
   "outputs": [
    {
     "data": {
      "text/plain": [
       "15058"
      ]
     },
     "execution_count": 12,
     "metadata": {},
     "output_type": "execute_result"
    }
   ],
   "source": [
    "len(serious_failures)"
   ]
  },
  {
   "cell_type": "code",
   "execution_count": 17,
   "metadata": {},
   "outputs": [
    {
     "data": {
      "text/plain": [
       "<matplotlib.axes._subplots.AxesSubplot at 0x1a281b8e48>"
      ]
     },
     "execution_count": 17,
     "metadata": {},
     "output_type": "execute_result"
    },
    {
     "data": {
      "image/png": "[encoded data removed]",
      "text/plain": [
       "<Figure size 432x288 with 1 Axes>"
      ]
     },
     "metadata": {
      "needs_background": "light"
     },
     "output_type": "display_data"
    }
   ],
   "source": [
    "serious_failures.Desc.value_counts().head(10).plot(kind='bar')"
   ]
  },
  {
   "cell_type": "markdown",
   "metadata": {},
   "source": [
    "**FINDING 2: Lift Door Faults are the highest false positive events**"
   ]
  },
  {
   "cell_type": "markdown",
   "metadata": {},
   "source": [
    "As the lift is never out of operation following these events for very long - there are a large number of false positive alerts being set - which can be used to inform a CCTV machine learning model."
   ]
  },
  {
   "cell_type": "markdown",
   "metadata": {},
   "source": [
    "**USE CASE Explanation:**\n",
    "By using the timestamps of the false positive moments and the CCTV camera feeds (+/- 5 seconds around the incident) - we can train a computer vision classifier to identify what is a false positive alert coming from the system and what should be raised to staff\n",
    "    "
   ]
  },
  {
   "cell_type": "markdown",
   "metadata": {},
   "source": [
    "# Analysing Oil Pressure in Lifts"
   ]
  },
  {
   "cell_type": "code",
   "execution_count": 21,
   "metadata": {},
   "outputs": [],
   "source": [
    "logs['Desc'] = logs.Desc.apply(lambda x: remove_dead_string(x))"
   ]
  },
  {
   "cell_type": "code",
   "execution_count": 22,
   "metadata": {},
   "outputs": [],
   "source": [
    "oils = 'KGV PLATFORM LIFT OIL PRESSURE NORMAL',  'KGV PLATFORM LIFT OIL PRESSURE HIGH',  'KGV PLATFORM LIFT OIL PRESSURE LOW'"
   ]
  },
  {
   "cell_type": "code",
   "execution_count": 24,
   "metadata": {},
   "outputs": [
    {
     "data": {
      "text/html": [
       "<div>\n",
       "<style scoped>\n",
       "    .dataframe tbody tr th:only-of-type {\n",
       "        vertical-align: middle;\n",
       "    }\n",
       "\n",
       "    .dataframe tbody tr th {\n",
       "        vertical-align: top;\n",
       "    }\n",
       "\n",
       "    .dataframe thead th {\n",
       "        text-align: right;\n",
       "    }\n",
       "</style>\n",
       "<table border=\"1\" class=\"dataframe\">\n",
       "  <thead>\n",
       "    <tr style=\"text-align: right;\">\n",
       "      <th></th>\n",
       "      <th>Seq</th>\n",
       "      <th>Time</th>\n",
       "      <th>Priority</th>\n",
       "      <th>Desc</th>\n",
       "      <th>Cause</th>\n",
       "      <th>NMSID</th>\n",
       "    </tr>\n",
       "  </thead>\n",
       "  <tbody>\n",
       "    <tr>\n",
       "      <th>61</th>\n",
       "      <td>1772346</td>\n",
       "      <td>26/04/2019 06:50:30</td>\n",
       "      <td>x</td>\n",
       "      <td>KGV PLATFORM LIFT OIL PRESSURE NORMAL</td>\n",
       "      <td>\"Alarm_Cleared\"</td>\n",
       "      <td>25442802</td>\n",
       "    </tr>\n",
       "    <tr>\n",
       "      <th>62</th>\n",
       "      <td>1772347</td>\n",
       "      <td>26/04/2019 06:50:30</td>\n",
       "      <td>x</td>\n",
       "      <td>KGV PLATFORM LIFT OIL PRESSURE NORMAL</td>\n",
       "      <td>\"Alarm_Cleared\"</td>\n",
       "      <td>25442803</td>\n",
       "    </tr>\n",
       "    <tr>\n",
       "      <th>63</th>\n",
       "      <td>1772342</td>\n",
       "      <td>26/04/2019 06:50:28</td>\n",
       "      <td>1</td>\n",
       "      <td>KGV PLATFORM LIFT OIL PRESSURE LOW</td>\n",
       "      <td>\"Alarm_Raised\"</td>\n",
       "      <td>25442798</td>\n",
       "    </tr>\n",
       "    <tr>\n",
       "      <th>65</th>\n",
       "      <td>1772344</td>\n",
       "      <td>26/04/2019 06:50:28</td>\n",
       "      <td>1</td>\n",
       "      <td>KGV PLATFORM LIFT OIL PRESSURE HIGH</td>\n",
       "      <td>\"Alarm_Raised\"</td>\n",
       "      <td>25442800</td>\n",
       "    </tr>\n",
       "    <tr>\n",
       "      <th>70</th>\n",
       "      <td>1772332</td>\n",
       "      <td>26/04/2019 06:37:41</td>\n",
       "      <td>x</td>\n",
       "      <td>KGV PLATFORM LIFT OIL PRESSURE NORMAL</td>\n",
       "      <td>\"Alarm_Cleared\"</td>\n",
       "      <td>25442788</td>\n",
       "    </tr>\n",
       "    <tr>\n",
       "      <th>71</th>\n",
       "      <td>1772333</td>\n",
       "      <td>26/04/2019 06:37:41</td>\n",
       "      <td>x</td>\n",
       "      <td>KGV PLATFORM LIFT OIL PRESSURE NORMAL</td>\n",
       "      <td>\"Alarm_Cleared\"</td>\n",
       "      <td>25442789</td>\n",
       "    </tr>\n",
       "    <tr>\n",
       "      <th>73</th>\n",
       "      <td>1772329</td>\n",
       "      <td>26/04/2019 06:37:38</td>\n",
       "      <td>1</td>\n",
       "      <td>KGV PLATFORM LIFT OIL PRESSURE LOW</td>\n",
       "      <td>\"Alarm_Raised\"</td>\n",
       "      <td>25442785</td>\n",
       "    </tr>\n",
       "    <tr>\n",
       "      <th>74</th>\n",
       "      <td>1772330</td>\n",
       "      <td>26/04/2019 06:37:38</td>\n",
       "      <td>1</td>\n",
       "      <td>KGV PLATFORM LIFT OIL PRESSURE HIGH</td>\n",
       "      <td>\"Alarm_Raised\"</td>\n",
       "      <td>25442786</td>\n",
       "    </tr>\n",
       "    <tr>\n",
       "      <th>223</th>\n",
       "      <td>1769804</td>\n",
       "      <td>25/04/2019 23:40:55</td>\n",
       "      <td>x</td>\n",
       "      <td>KGV PLATFORM LIFT OIL PRESSURE NORMAL</td>\n",
       "      <td>\"Alarm_Cleared\"</td>\n",
       "      <td>25440260</td>\n",
       "    </tr>\n",
       "    <tr>\n",
       "      <th>224</th>\n",
       "      <td>1769805</td>\n",
       "      <td>25/04/2019 23:40:55</td>\n",
       "      <td>x</td>\n",
       "      <td>KGV PLATFORM LIFT OIL PRESSURE NORMAL</td>\n",
       "      <td>\"Alarm_Cleared\"</td>\n",
       "      <td>25440261</td>\n",
       "    </tr>\n",
       "    <tr>\n",
       "      <th>226</th>\n",
       "      <td>1769801</td>\n",
       "      <td>25/04/2019 23:40:53</td>\n",
       "      <td>1</td>\n",
       "      <td>KGV PLATFORM LIFT OIL PRESSURE LOW</td>\n",
       "      <td>\"Alarm_Raised\"</td>\n",
       "      <td>25440257</td>\n",
       "    </tr>\n",
       "    <tr>\n",
       "      <th>227</th>\n",
       "      <td>1769802</td>\n",
       "      <td>25/04/2019 23:40:53</td>\n",
       "      <td>1</td>\n",
       "      <td>KGV PLATFORM LIFT OIL PRESSURE HIGH</td>\n",
       "      <td>\"Alarm_Raised\"</td>\n",
       "      <td>25440258</td>\n",
       "    </tr>\n",
       "    <tr>\n",
       "      <th>256</th>\n",
       "      <td>1769676</td>\n",
       "      <td>25/04/2019 22:00:20</td>\n",
       "      <td>x</td>\n",
       "      <td>KGV PLATFORM LIFT OIL PRESSURE NORMAL</td>\n",
       "      <td>\"Alarm_Cleared\"</td>\n",
       "      <td>25440132</td>\n",
       "    </tr>\n",
       "    <tr>\n",
       "      <th>257</th>\n",
       "      <td>1769677</td>\n",
       "      <td>25/04/2019 22:00:20</td>\n",
       "      <td>x</td>\n",
       "      <td>KGV PLATFORM LIFT OIL PRESSURE NORMAL</td>\n",
       "      <td>\"Alarm_Cleared\"</td>\n",
       "      <td>25440133</td>\n",
       "    </tr>\n",
       "    <tr>\n",
       "      <th>258</th>\n",
       "      <td>1769672</td>\n",
       "      <td>25/04/2019 22:00:18</td>\n",
       "      <td>1</td>\n",
       "      <td>KGV PLATFORM LIFT OIL PRESSURE LOW</td>\n",
       "      <td>\"Alarm_Raised\"</td>\n",
       "      <td>25440128</td>\n",
       "    </tr>\n",
       "    <tr>\n",
       "      <th>259</th>\n",
       "      <td>1769673</td>\n",
       "      <td>25/04/2019 22:00:18</td>\n",
       "      <td>1</td>\n",
       "      <td>KGV PLATFORM LIFT OIL PRESSURE HIGH</td>\n",
       "      <td>\"Alarm_Raised\"</td>\n",
       "      <td>25440129</td>\n",
       "    </tr>\n",
       "    <tr>\n",
       "      <th>280</th>\n",
       "      <td>1769634</td>\n",
       "      <td>25/04/2019 21:30:34</td>\n",
       "      <td>x</td>\n",
       "      <td>KGV PLATFORM LIFT OIL PRESSURE NORMAL</td>\n",
       "      <td>\"Alarm_Cleared\"</td>\n",
       "      <td>25440090</td>\n",
       "    </tr>\n",
       "    <tr>\n",
       "      <th>281</th>\n",
       "      <td>1769635</td>\n",
       "      <td>25/04/2019 21:30:34</td>\n",
       "      <td>x</td>\n",
       "      <td>KGV PLATFORM LIFT OIL PRESSURE NORMAL</td>\n",
       "      <td>\"Alarm_Cleared\"</td>\n",
       "      <td>25440091</td>\n",
       "    </tr>\n",
       "    <tr>\n",
       "      <th>282</th>\n",
       "      <td>1769630</td>\n",
       "      <td>25/04/2019 21:30:32</td>\n",
       "      <td>1</td>\n",
       "      <td>KGV PLATFORM LIFT OIL PRESSURE LOW</td>\n",
       "      <td>\"Alarm_Raised\"</td>\n",
       "      <td>25440086</td>\n",
       "    </tr>\n",
       "    <tr>\n",
       "      <th>283</th>\n",
       "      <td>1769631</td>\n",
       "      <td>25/04/2019 21:30:32</td>\n",
       "      <td>1</td>\n",
       "      <td>KGV PLATFORM LIFT OIL PRESSURE HIGH</td>\n",
       "      <td>\"Alarm_Raised\"</td>\n",
       "      <td>25440087</td>\n",
       "    </tr>\n",
       "    <tr>\n",
       "      <th>286</th>\n",
       "      <td>1769628</td>\n",
       "      <td>25/04/2019 21:30:14</td>\n",
       "      <td>x</td>\n",
       "      <td>KGV PLATFORM LIFT OIL PRESSURE NORMAL</td>\n",
       "      <td>\"Alarm_Cleared\"</td>\n",
       "      <td>25440084</td>\n",
       "    </tr>\n",
       "    <tr>\n",
       "      <th>287</th>\n",
       "      <td>1769629</td>\n",
       "      <td>25/04/2019 21:30:14</td>\n",
       "      <td>x</td>\n",
       "      <td>KGV PLATFORM LIFT OIL PRESSURE NORMAL</td>\n",
       "      <td>\"Alarm_Cleared\"</td>\n",
       "      <td>25440085</td>\n",
       "    </tr>\n",
       "    <tr>\n",
       "      <th>288</th>\n",
       "      <td>1769624</td>\n",
       "      <td>25/04/2019 21:30:11</td>\n",
       "      <td>1</td>\n",
       "      <td>KGV PLATFORM LIFT OIL PRESSURE LOW</td>\n",
       "      <td>\"Alarm_Raised\"</td>\n",
       "      <td>25440080</td>\n",
       "    </tr>\n",
       "    <tr>\n",
       "      <th>289</th>\n",
       "      <td>1769625</td>\n",
       "      <td>25/04/2019 21:30:11</td>\n",
       "      <td>1</td>\n",
       "      <td>KGV PLATFORM LIFT OIL PRESSURE HIGH</td>\n",
       "      <td>\"Alarm_Raised\"</td>\n",
       "      <td>25440081</td>\n",
       "    </tr>\n",
       "    <tr>\n",
       "      <th>314</th>\n",
       "      <td>1769567</td>\n",
       "      <td>25/04/2019 21:05:59</td>\n",
       "      <td>x</td>\n",
       "      <td>KGV PLATFORM LIFT OIL PRESSURE NORMAL</td>\n",
       "      <td>\"Alarm_Cleared\"</td>\n",
       "      <td>25440023</td>\n",
       "    </tr>\n",
       "    <tr>\n",
       "      <th>315</th>\n",
       "      <td>1769568</td>\n",
       "      <td>25/04/2019 21:05:59</td>\n",
       "      <td>x</td>\n",
       "      <td>KGV PLATFORM LIFT OIL PRESSURE NORMAL</td>\n",
       "      <td>\"Alarm_Cleared\"</td>\n",
       "      <td>25440024</td>\n",
       "    </tr>\n",
       "    <tr>\n",
       "      <th>316</th>\n",
       "      <td>1769563</td>\n",
       "      <td>25/04/2019 21:05:57</td>\n",
       "      <td>1</td>\n",
       "      <td>KGV PLATFORM LIFT OIL PRESSURE LOW</td>\n",
       "      <td>\"Alarm_Raised\"</td>\n",
       "      <td>25440019</td>\n",
       "    </tr>\n",
       "    <tr>\n",
       "      <th>317</th>\n",
       "      <td>1769564</td>\n",
       "      <td>25/04/2019 21:05:57</td>\n",
       "      <td>1</td>\n",
       "      <td>KGV PLATFORM LIFT OIL PRESSURE HIGH</td>\n",
       "      <td>\"Alarm_Raised\"</td>\n",
       "      <td>25440020</td>\n",
       "    </tr>\n",
       "    <tr>\n",
       "      <th>358</th>\n",
       "      <td>1769505</td>\n",
       "      <td>25/04/2019 20:18:43</td>\n",
       "      <td>x</td>\n",
       "      <td>KGV PLATFORM LIFT OIL PRESSURE NORMAL</td>\n",
       "      <td>\"Alarm_Cleared\"</td>\n",
       "      <td>25439961</td>\n",
       "    </tr>\n",
       "    <tr>\n",
       "      <th>359</th>\n",
       "      <td>1769506</td>\n",
       "      <td>25/04/2019 20:18:43</td>\n",
       "      <td>x</td>\n",
       "      <td>KGV PLATFORM LIFT OIL PRESSURE NORMAL</td>\n",
       "      <td>\"Alarm_Cleared\"</td>\n",
       "      <td>25439962</td>\n",
       "    </tr>\n",
       "    <tr>\n",
       "      <th>...</th>\n",
       "      <td>...</td>\n",
       "      <td>...</td>\n",
       "      <td>...</td>\n",
       "      <td>...</td>\n",
       "      <td>...</td>\n",
       "      <td>...</td>\n",
       "    </tr>\n",
       "    <tr>\n",
       "      <th>55752</th>\n",
       "      <td>1532457</td>\n",
       "      <td>04/03/2019 18:10:29</td>\n",
       "      <td>1</td>\n",
       "      <td>KGV PLATFORM LIFT OIL PRESSURE LOW</td>\n",
       "      <td>\"Alarm_Raised\"</td>\n",
       "      <td>25202946</td>\n",
       "    </tr>\n",
       "    <tr>\n",
       "      <th>55753</th>\n",
       "      <td>1532458</td>\n",
       "      <td>04/03/2019 18:10:29</td>\n",
       "      <td>1</td>\n",
       "      <td>KGV PLATFORM LIFT OIL PRESSURE HIGH</td>\n",
       "      <td>\"Alarm_Raised\"</td>\n",
       "      <td>25202947</td>\n",
       "    </tr>\n",
       "    <tr>\n",
       "      <th>55847</th>\n",
       "      <td>1532301</td>\n",
       "      <td>04/03/2019 16:52:17</td>\n",
       "      <td>x</td>\n",
       "      <td>KGV PLATFORM LIFT OIL PRESSURE NORMAL</td>\n",
       "      <td>\"Alarm_Cleared\"</td>\n",
       "      <td>25202790</td>\n",
       "    </tr>\n",
       "    <tr>\n",
       "      <th>55848</th>\n",
       "      <td>1532302</td>\n",
       "      <td>04/03/2019 16:52:17</td>\n",
       "      <td>x</td>\n",
       "      <td>KGV PLATFORM LIFT OIL PRESSURE NORMAL</td>\n",
       "      <td>\"Alarm_Cleared\"</td>\n",
       "      <td>25202791</td>\n",
       "    </tr>\n",
       "    <tr>\n",
       "      <th>55850</th>\n",
       "      <td>1532298</td>\n",
       "      <td>04/03/2019 16:52:15</td>\n",
       "      <td>1</td>\n",
       "      <td>KGV PLATFORM LIFT OIL PRESSURE LOW</td>\n",
       "      <td>\"Alarm_Raised\"</td>\n",
       "      <td>25202787</td>\n",
       "    </tr>\n",
       "    <tr>\n",
       "      <th>55851</th>\n",
       "      <td>1532299</td>\n",
       "      <td>04/03/2019 16:52:15</td>\n",
       "      <td>1</td>\n",
       "      <td>KGV PLATFORM LIFT OIL PRESSURE HIGH</td>\n",
       "      <td>\"Alarm_Raised\"</td>\n",
       "      <td>25202788</td>\n",
       "    </tr>\n",
       "    <tr>\n",
       "      <th>55933</th>\n",
       "      <td>1532039</td>\n",
       "      <td>04/03/2019 14:08:48</td>\n",
       "      <td>x</td>\n",
       "      <td>KGV PLATFORM LIFT OIL PRESSURE NORMAL</td>\n",
       "      <td>\"Alarm_Cleared\"</td>\n",
       "      <td>25202528</td>\n",
       "    </tr>\n",
       "    <tr>\n",
       "      <th>55934</th>\n",
       "      <td>1532040</td>\n",
       "      <td>04/03/2019 14:08:48</td>\n",
       "      <td>x</td>\n",
       "      <td>KGV PLATFORM LIFT OIL PRESSURE NORMAL</td>\n",
       "      <td>\"Alarm_Cleared\"</td>\n",
       "      <td>25202529</td>\n",
       "    </tr>\n",
       "    <tr>\n",
       "      <th>55935</th>\n",
       "      <td>1532035</td>\n",
       "      <td>04/03/2019 14:08:45</td>\n",
       "      <td>1</td>\n",
       "      <td>KGV PLATFORM LIFT OIL PRESSURE LOW</td>\n",
       "      <td>\"Alarm_Raised\"</td>\n",
       "      <td>25202524</td>\n",
       "    </tr>\n",
       "    <tr>\n",
       "      <th>55936</th>\n",
       "      <td>1532036</td>\n",
       "      <td>04/03/2019 14:08:45</td>\n",
       "      <td>1</td>\n",
       "      <td>KGV PLATFORM LIFT OIL PRESSURE HIGH</td>\n",
       "      <td>\"Alarm_Raised\"</td>\n",
       "      <td>25202525</td>\n",
       "    </tr>\n",
       "    <tr>\n",
       "      <th>56014</th>\n",
       "      <td>1531534</td>\n",
       "      <td>04/03/2019 11:00:44</td>\n",
       "      <td>x</td>\n",
       "      <td>KGV PLATFORM LIFT OIL PRESSURE NORMAL</td>\n",
       "      <td>\"Alarm_Cleared\"</td>\n",
       "      <td>25202023</td>\n",
       "    </tr>\n",
       "    <tr>\n",
       "      <th>56015</th>\n",
       "      <td>1531535</td>\n",
       "      <td>04/03/2019 11:00:44</td>\n",
       "      <td>x</td>\n",
       "      <td>KGV PLATFORM LIFT OIL PRESSURE NORMAL</td>\n",
       "      <td>\"Alarm_Cleared\"</td>\n",
       "      <td>25202024</td>\n",
       "    </tr>\n",
       "    <tr>\n",
       "      <th>56016</th>\n",
       "      <td>1531530</td>\n",
       "      <td>04/03/2019 11:00:42</td>\n",
       "      <td>1</td>\n",
       "      <td>KGV PLATFORM LIFT OIL PRESSURE LOW</td>\n",
       "      <td>\"Alarm_Raised\"</td>\n",
       "      <td>25202019</td>\n",
       "    </tr>\n",
       "    <tr>\n",
       "      <th>56017</th>\n",
       "      <td>1531531</td>\n",
       "      <td>04/03/2019 11:00:42</td>\n",
       "      <td>1</td>\n",
       "      <td>KGV PLATFORM LIFT OIL PRESSURE HIGH</td>\n",
       "      <td>\"Alarm_Raised\"</td>\n",
       "      <td>25202020</td>\n",
       "    </tr>\n",
       "    <tr>\n",
       "      <th>57417</th>\n",
       "      <td>1523500</td>\n",
       "      <td>02/03/2019 10:47:07</td>\n",
       "      <td>x</td>\n",
       "      <td>KGV PLATFORM LIFT OIL PRESSURE NORMAL</td>\n",
       "      <td>\"Alarm_Cleared\"</td>\n",
       "      <td>25193989</td>\n",
       "    </tr>\n",
       "    <tr>\n",
       "      <th>57418</th>\n",
       "      <td>1523501</td>\n",
       "      <td>02/03/2019 10:47:07</td>\n",
       "      <td>x</td>\n",
       "      <td>KGV PLATFORM LIFT OIL PRESSURE NORMAL</td>\n",
       "      <td>\"Alarm_Cleared\"</td>\n",
       "      <td>25193990</td>\n",
       "    </tr>\n",
       "    <tr>\n",
       "      <th>57419</th>\n",
       "      <td>1523496</td>\n",
       "      <td>02/03/2019 10:47:05</td>\n",
       "      <td>1</td>\n",
       "      <td>KGV PLATFORM LIFT OIL PRESSURE LOW</td>\n",
       "      <td>\"Alarm_Raised\"</td>\n",
       "      <td>25193985</td>\n",
       "    </tr>\n",
       "    <tr>\n",
       "      <th>57420</th>\n",
       "      <td>1523497</td>\n",
       "      <td>02/03/2019 10:47:05</td>\n",
       "      <td>1</td>\n",
       "      <td>KGV PLATFORM LIFT OIL PRESSURE HIGH</td>\n",
       "      <td>\"Alarm_Raised\"</td>\n",
       "      <td>25193986</td>\n",
       "    </tr>\n",
       "    <tr>\n",
       "      <th>57663</th>\n",
       "      <td>1521041</td>\n",
       "      <td>01/03/2019 19:15:44</td>\n",
       "      <td>x</td>\n",
       "      <td>KGV PLATFORM LIFT OIL PRESSURE NORMAL</td>\n",
       "      <td>\"Alarm_Cleared\"</td>\n",
       "      <td>25191530</td>\n",
       "    </tr>\n",
       "    <tr>\n",
       "      <th>57664</th>\n",
       "      <td>1521042</td>\n",
       "      <td>01/03/2019 19:15:44</td>\n",
       "      <td>x</td>\n",
       "      <td>KGV PLATFORM LIFT OIL PRESSURE NORMAL</td>\n",
       "      <td>\"Alarm_Cleared\"</td>\n",
       "      <td>25191531</td>\n",
       "    </tr>\n",
       "    <tr>\n",
       "      <th>57665</th>\n",
       "      <td>1521037</td>\n",
       "      <td>01/03/2019 19:15:41</td>\n",
       "      <td>1</td>\n",
       "      <td>KGV PLATFORM LIFT OIL PRESSURE LOW</td>\n",
       "      <td>\"Alarm_Raised\"</td>\n",
       "      <td>25191526</td>\n",
       "    </tr>\n",
       "    <tr>\n",
       "      <th>57666</th>\n",
       "      <td>1521038</td>\n",
       "      <td>01/03/2019 19:15:41</td>\n",
       "      <td>1</td>\n",
       "      <td>KGV PLATFORM LIFT OIL PRESSURE HIGH</td>\n",
       "      <td>\"Alarm_Raised\"</td>\n",
       "      <td>25191527</td>\n",
       "    </tr>\n",
       "    <tr>\n",
       "      <th>58334</th>\n",
       "      <td>1519493</td>\n",
       "      <td>01/03/2019 10:48:02</td>\n",
       "      <td>x</td>\n",
       "      <td>KGV PLATFORM LIFT OIL PRESSURE NORMAL</td>\n",
       "      <td>\"Alarm_Cleared\"</td>\n",
       "      <td>25189982</td>\n",
       "    </tr>\n",
       "    <tr>\n",
       "      <th>58335</th>\n",
       "      <td>1519494</td>\n",
       "      <td>01/03/2019 10:48:02</td>\n",
       "      <td>x</td>\n",
       "      <td>KGV PLATFORM LIFT OIL PRESSURE NORMAL</td>\n",
       "      <td>\"Alarm_Cleared\"</td>\n",
       "      <td>25189983</td>\n",
       "    </tr>\n",
       "    <tr>\n",
       "      <th>58336</th>\n",
       "      <td>1519489</td>\n",
       "      <td>01/03/2019 10:48:00</td>\n",
       "      <td>1</td>\n",
       "      <td>KGV PLATFORM LIFT OIL PRESSURE LOW</td>\n",
       "      <td>\"Alarm_Raised\"</td>\n",
       "      <td>25189978</td>\n",
       "    </tr>\n",
       "    <tr>\n",
       "      <th>58337</th>\n",
       "      <td>1519490</td>\n",
       "      <td>01/03/2019 10:48:00</td>\n",
       "      <td>1</td>\n",
       "      <td>KGV PLATFORM LIFT OIL PRESSURE HIGH</td>\n",
       "      <td>\"Alarm_Raised\"</td>\n",
       "      <td>25189979</td>\n",
       "    </tr>\n",
       "    <tr>\n",
       "      <th>58400</th>\n",
       "      <td>1519371</td>\n",
       "      <td>01/03/2019 09:17:07</td>\n",
       "      <td>x</td>\n",
       "      <td>KGV PLATFORM LIFT OIL PRESSURE NORMAL</td>\n",
       "      <td>\"Alarm_Cleared\"</td>\n",
       "      <td>25189860</td>\n",
       "    </tr>\n",
       "    <tr>\n",
       "      <th>58401</th>\n",
       "      <td>1519372</td>\n",
       "      <td>01/03/2019 09:17:07</td>\n",
       "      <td>x</td>\n",
       "      <td>KGV PLATFORM LIFT OIL PRESSURE NORMAL</td>\n",
       "      <td>\"Alarm_Cleared\"</td>\n",
       "      <td>25189861</td>\n",
       "    </tr>\n",
       "    <tr>\n",
       "      <th>58402</th>\n",
       "      <td>1519367</td>\n",
       "      <td>01/03/2019 09:17:05</td>\n",
       "      <td>1</td>\n",
       "      <td>KGV PLATFORM LIFT OIL PRESSURE LOW</td>\n",
       "      <td>\"Alarm_Raised\"</td>\n",
       "      <td>25189856</td>\n",
       "    </tr>\n",
       "    <tr>\n",
       "      <th>58403</th>\n",
       "      <td>1519368</td>\n",
       "      <td>01/03/2019 09:17:05</td>\n",
       "      <td>1</td>\n",
       "      <td>KGV PLATFORM LIFT OIL PRESSURE HIGH</td>\n",
       "      <td>\"Alarm_Raised\"</td>\n",
       "      <td>25189857</td>\n",
       "    </tr>\n",
       "  </tbody>\n",
       "</table>\n",
       "<p>1054 rows × 6 columns</p>\n",
       "</div>"
      ],
      "text/plain": [
       "           Seq                  Time Priority  \\\n",
       "61     1772346   26/04/2019 06:50:30        x   \n",
       "62     1772347   26/04/2019 06:50:30        x   \n",
       "63     1772342   26/04/2019 06:50:28        1   \n",
       "65     1772344   26/04/2019 06:50:28        1   \n",
       "70     1772332   26/04/2019 06:37:41        x   \n",
       "71     1772333   26/04/2019 06:37:41        x   \n",
       "73     1772329   26/04/2019 06:37:38        1   \n",
       "74     1772330   26/04/2019 06:37:38        1   \n",
       "223    1769804   25/04/2019 23:40:55        x   \n",
       "224    1769805   25/04/2019 23:40:55        x   \n",
       "226    1769801   25/04/2019 23:40:53        1   \n",
       "227    1769802   25/04/2019 23:40:53        1   \n",
       "256    1769676   25/04/2019 22:00:20        x   \n",
       "257    1769677   25/04/2019 22:00:20        x   \n",
       "258    1769672   25/04/2019 22:00:18        1   \n",
       "259    1769673   25/04/2019 22:00:18        1   \n",
       "280    1769634   25/04/2019 21:30:34        x   \n",
       "281    1769635   25/04/2019 21:30:34        x   \n",
       "282    1769630   25/04/2019 21:30:32        1   \n",
       "283    1769631   25/04/2019 21:30:32        1   \n",
       "286    1769628   25/04/2019 21:30:14        x   \n",
       "287    1769629   25/04/2019 21:30:14        x   \n",
       "288    1769624   25/04/2019 21:30:11        1   \n",
       "289    1769625   25/04/2019 21:30:11        1   \n",
       "314    1769567   25/04/2019 21:05:59        x   \n",
       "315    1769568   25/04/2019 21:05:59        x   \n",
       "316    1769563   25/04/2019 21:05:57        1   \n",
       "317    1769564   25/04/2019 21:05:57        1   \n",
       "358    1769505   25/04/2019 20:18:43        x   \n",
       "359    1769506   25/04/2019 20:18:43        x   \n",
       "...        ...                   ...      ...   \n",
       "55752  1532457   04/03/2019 18:10:29        1   \n",
       "55753  1532458   04/03/2019 18:10:29        1   \n",
       "55847  1532301   04/03/2019 16:52:17        x   \n",
       "55848  1532302   04/03/2019 16:52:17        x   \n",
       "55850  1532298   04/03/2019 16:52:15        1   \n",
       "55851  1532299   04/03/2019 16:52:15        1   \n",
       "55933  1532039   04/03/2019 14:08:48        x   \n",
       "55934  1532040   04/03/2019 14:08:48        x   \n",
       "55935  1532035   04/03/2019 14:08:45        1   \n",
       "55936  1532036   04/03/2019 14:08:45        1   \n",
       "56014  1531534   04/03/2019 11:00:44        x   \n",
       "56015  1531535   04/03/2019 11:00:44        x   \n",
       "56016  1531530   04/03/2019 11:00:42        1   \n",
       "56017  1531531   04/03/2019 11:00:42        1   \n",
       "57417  1523500   02/03/2019 10:47:07        x   \n",
       "57418  1523501   02/03/2019 10:47:07        x   \n",
       "57419  1523496   02/03/2019 10:47:05        1   \n",
       "57420  1523497   02/03/2019 10:47:05        1   \n",
       "57663  1521041   01/03/2019 19:15:44        x   \n",
       "57664  1521042   01/03/2019 19:15:44        x   \n",
       "57665  1521037   01/03/2019 19:15:41        1   \n",
       "57666  1521038   01/03/2019 19:15:41        1   \n",
       "58334  1519493   01/03/2019 10:48:02        x   \n",
       "58335  1519494   01/03/2019 10:48:02        x   \n",
       "58336  1519489   01/03/2019 10:48:00        1   \n",
       "58337  1519490   01/03/2019 10:48:00        1   \n",
       "58400  1519371   01/03/2019 09:17:07        x   \n",
       "58401  1519372   01/03/2019 09:17:07        x   \n",
       "58402  1519367   01/03/2019 09:17:05        1   \n",
       "58403  1519368   01/03/2019 09:17:05        1   \n",
       "\n",
       "                                        Desc             Cause     NMSID  \n",
       "61     KGV PLATFORM LIFT OIL PRESSURE NORMAL   \"Alarm_Cleared\"  25442802  \n",
       "62     KGV PLATFORM LIFT OIL PRESSURE NORMAL   \"Alarm_Cleared\"  25442803  \n",
       "63        KGV PLATFORM LIFT OIL PRESSURE LOW    \"Alarm_Raised\"  25442798  \n",
       "65       KGV PLATFORM LIFT OIL PRESSURE HIGH    \"Alarm_Raised\"  25442800  \n",
       "70     KGV PLATFORM LIFT OIL PRESSURE NORMAL   \"Alarm_Cleared\"  25442788  \n",
       "71     KGV PLATFORM LIFT OIL PRESSURE NORMAL   \"Alarm_Cleared\"  25442789  \n",
       "73        KGV PLATFORM LIFT OIL PRESSURE LOW    \"Alarm_Raised\"  25442785  \n",
       "74       KGV PLATFORM LIFT OIL PRESSURE HIGH    \"Alarm_Raised\"  25442786  \n",
       "223    KGV PLATFORM LIFT OIL PRESSURE NORMAL   \"Alarm_Cleared\"  25440260  \n",
       "224    KGV PLATFORM LIFT OIL PRESSURE NORMAL   \"Alarm_Cleared\"  25440261  \n",
       "226       KGV PLATFORM LIFT OIL PRESSURE LOW    \"Alarm_Raised\"  25440257  \n",
       "227      KGV PLATFORM LIFT OIL PRESSURE HIGH    \"Alarm_Raised\"  25440258  \n",
       "256    KGV PLATFORM LIFT OIL PRESSURE NORMAL   \"Alarm_Cleared\"  25440132  \n",
       "257    KGV PLATFORM LIFT OIL PRESSURE NORMAL   \"Alarm_Cleared\"  25440133  \n",
       "258       KGV PLATFORM LIFT OIL PRESSURE LOW    \"Alarm_Raised\"  25440128  \n",
       "259      KGV PLATFORM LIFT OIL PRESSURE HIGH    \"Alarm_Raised\"  25440129  \n",
       "280    KGV PLATFORM LIFT OIL PRESSURE NORMAL   \"Alarm_Cleared\"  25440090  \n",
       "281    KGV PLATFORM LIFT OIL PRESSURE NORMAL   \"Alarm_Cleared\"  25440091  \n",
       "282       KGV PLATFORM LIFT OIL PRESSURE LOW    \"Alarm_Raised\"  25440086  \n",
       "283      KGV PLATFORM LIFT OIL PRESSURE HIGH    \"Alarm_Raised\"  25440087  \n",
       "286    KGV PLATFORM LIFT OIL PRESSURE NORMAL   \"Alarm_Cleared\"  25440084  \n",
       "287    KGV PLATFORM LIFT OIL PRESSURE NORMAL   \"Alarm_Cleared\"  25440085  \n",
       "288       KGV PLATFORM LIFT OIL PRESSURE LOW    \"Alarm_Raised\"  25440080  \n",
       "289      KGV PLATFORM LIFT OIL PRESSURE HIGH    \"Alarm_Raised\"  25440081  \n",
       "314    KGV PLATFORM LIFT OIL PRESSURE NORMAL   \"Alarm_Cleared\"  25440023  \n",
       "315    KGV PLATFORM LIFT OIL PRESSURE NORMAL   \"Alarm_Cleared\"  25440024  \n",
       "316       KGV PLATFORM LIFT OIL PRESSURE LOW    \"Alarm_Raised\"  25440019  \n",
       "317      KGV PLATFORM LIFT OIL PRESSURE HIGH    \"Alarm_Raised\"  25440020  \n",
       "358    KGV PLATFORM LIFT OIL PRESSURE NORMAL   \"Alarm_Cleared\"  25439961  \n",
       "359    KGV PLATFORM LIFT OIL PRESSURE NORMAL   \"Alarm_Cleared\"  25439962  \n",
       "...                                      ...               ...       ...  \n",
       "55752     KGV PLATFORM LIFT OIL PRESSURE LOW    \"Alarm_Raised\"  25202946  \n",
       "55753    KGV PLATFORM LIFT OIL PRESSURE HIGH    \"Alarm_Raised\"  25202947  \n",
       "55847  KGV PLATFORM LIFT OIL PRESSURE NORMAL   \"Alarm_Cleared\"  25202790  \n",
       "55848  KGV PLATFORM LIFT OIL PRESSURE NORMAL   \"Alarm_Cleared\"  25202791  \n",
       "55850     KGV PLATFORM LIFT OIL PRESSURE LOW    \"Alarm_Raised\"  25202787  \n",
       "55851    KGV PLATFORM LIFT OIL PRESSURE HIGH    \"Alarm_Raised\"  25202788  \n",
       "55933  KGV PLATFORM LIFT OIL PRESSURE NORMAL   \"Alarm_Cleared\"  25202528  \n",
       "55934  KGV PLATFORM LIFT OIL PRESSURE NORMAL   \"Alarm_Cleared\"  25202529  \n",
       "55935     KGV PLATFORM LIFT OIL PRESSURE LOW    \"Alarm_Raised\"  25202524  \n",
       "55936    KGV PLATFORM LIFT OIL PRESSURE HIGH    \"Alarm_Raised\"  25202525  \n",
       "56014  KGV PLATFORM LIFT OIL PRESSURE NORMAL   \"Alarm_Cleared\"  25202023  \n",
       "56015  KGV PLATFORM LIFT OIL PRESSURE NORMAL   \"Alarm_Cleared\"  25202024  \n",
       "56016     KGV PLATFORM LIFT OIL PRESSURE LOW    \"Alarm_Raised\"  25202019  \n",
       "56017    KGV PLATFORM LIFT OIL PRESSURE HIGH    \"Alarm_Raised\"  25202020  \n",
       "57417  KGV PLATFORM LIFT OIL PRESSURE NORMAL   \"Alarm_Cleared\"  25193989  \n",
       "57418  KGV PLATFORM LIFT OIL PRESSURE NORMAL   \"Alarm_Cleared\"  25193990  \n",
       "57419     KGV PLATFORM LIFT OIL PRESSURE LOW    \"Alarm_Raised\"  25193985  \n",
       "57420    KGV PLATFORM LIFT OIL PRESSURE HIGH    \"Alarm_Raised\"  25193986  \n",
       "57663  KGV PLATFORM LIFT OIL PRESSURE NORMAL   \"Alarm_Cleared\"  25191530  \n",
       "57664  KGV PLATFORM LIFT OIL PRESSURE NORMAL   \"Alarm_Cleared\"  25191531  \n",
       "57665     KGV PLATFORM LIFT OIL PRESSURE LOW    \"Alarm_Raised\"  25191526  \n",
       "57666    KGV PLATFORM LIFT OIL PRESSURE HIGH    \"Alarm_Raised\"  25191527  \n",
       "58334  KGV PLATFORM LIFT OIL PRESSURE NORMAL   \"Alarm_Cleared\"  25189982  \n",
       "58335  KGV PLATFORM LIFT OIL PRESSURE NORMAL   \"Alarm_Cleared\"  25189983  \n",
       "58336     KGV PLATFORM LIFT OIL PRESSURE LOW    \"Alarm_Raised\"  25189978  \n",
       "58337    KGV PLATFORM LIFT OIL PRESSURE HIGH    \"Alarm_Raised\"  25189979  \n",
       "58400  KGV PLATFORM LIFT OIL PRESSURE NORMAL   \"Alarm_Cleared\"  25189860  \n",
       "58401  KGV PLATFORM LIFT OIL PRESSURE NORMAL   \"Alarm_Cleared\"  25189861  \n",
       "58402     KGV PLATFORM LIFT OIL PRESSURE LOW    \"Alarm_Raised\"  25189856  \n",
       "58403    KGV PLATFORM LIFT OIL PRESSURE HIGH    \"Alarm_Raised\"  25189857  \n",
       "\n",
       "[1054 rows x 6 columns]"
      ]
     },
     "execution_count": 24,
     "metadata": {},
     "output_type": "execute_result"
    }
   ],
   "source": [
    "logs[logs.Desc.isin(oils)]"
   ]
  },
  {
   "cell_type": "markdown",
   "metadata": {},
   "source": [
    "Anomalous Trend identified lift oil pressure, with alarms being raised for High Pressure and Low pressure before being cleared in under 3 seconds everytime."
   ]
  },
  {
   "cell_type": "markdown",
   "metadata": {},
   "source": [
    "This error is sequence is generated over 1k times in the analysed month of data accounting for 3.5 % of serious faults being raised"
   ]
  },
  {
   "cell_type": "markdown",
   "metadata": {},
   "source": [
    "# L&E Asset Data"
   ]
  },
  {
   "cell_type": "markdown",
   "metadata": {},
   "source": [
    "**L&E Asset Data provides all the elevators and escalators in the network - with a blank corresponding 'passenger count' number**"
   ]
  },
  {
   "cell_type": "markdown",
   "metadata": {},
   "source": [
    "This is something that the CCTV ML model could help for by counting the number of passengers over a number of months to get more accurate estimates"
   ]
  },
  {
   "cell_type": "markdown",
   "metadata": {},
   "source": [
    "# Maintenance - L&E Assets with Op Status 20.10.2017"
   ]
  },
  {
   "cell_type": "markdown",
   "metadata": {},
   "source": [
    "Max No. Persons & Max Weight for lifts specs available"
   ]
  },
  {
   "cell_type": "markdown",
   "metadata": {},
   "source": [
    "Can be inferred from Counting algorithm"
   ]
  }
 ],
 "metadata": {
  "kernelspec": {
   "display_name": "Python 3",
   "language": "python",
   "name": "python3"
  },
  "language_info": {
   "codemirror_mode": {
    "name": "ipython",
    "version": 3
   },
   "file_extension": ".py",
   "mimetype": "text/x-python",
   "name": "python",
   "nbconvert_exporter": "python",
   "pygments_lexer": "ipython3",
   "version": "3.6.6"
  }
 },
 "nbformat": 4,
 "nbformat_minor": 2
}
